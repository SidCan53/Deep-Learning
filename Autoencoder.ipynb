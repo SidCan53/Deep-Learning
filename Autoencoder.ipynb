{
  "nbformat": 4,
  "nbformat_minor": 0,
  "metadata": {
    "colab": {
      "provenance": [],
      "authorship_tag": "ABX9TyMvTmPb61O/xW4fyny6COk8",
      "include_colab_link": true
    },
    "kernelspec": {
      "name": "python3",
      "display_name": "Python 3"
    },
    "language_info": {
      "name": "python"
    }
  },
  "cells": [
    {
      "cell_type": "markdown",
      "metadata": {
        "id": "view-in-github",
        "colab_type": "text"
      },
      "source": [
        "<a href=\"https://colab.research.google.com/github/SidCan53/Deep-Learning/blob/main/Autoencoder.ipynb\" target=\"_parent\"><img src=\"https://colab.research.google.com/assets/colab-badge.svg\" alt=\"Open In Colab\"/></a>"
      ]
    },
    {
      "cell_type": "code",
      "execution_count": null,
      "metadata": {
        "id": "xGR-HlBPUILy"
      },
      "outputs": [],
      "source": [
        "#!/usr/bin/env python3\n",
        "# -*- coding: utf-8 -*-\n",
        "\"\"\"\n",
        "Created on Wed Oct  4 22:57:49 2023\n",
        "\n",
        "@author: syedsajidhussain\n",
        "\"\"\"\n",
        "\n",
        "from matplotlib.pyplot import imshow\n",
        "\n",
        "\n",
        "import numpy as np\n",
        "import cv2\n",
        "from keras.preprocessing.image import img_to_array\n",
        "from tensorflow.keras.layers import Conv2D, MaxPooling2D, UpSampling2D\n",
        "from tensorflow.keras.models import Sequential\n",
        "from tensorflow.keras.optimizers import SGD\n",
        "\n",
        "np.random.seed(42)\n",
        "\n",
        "SIZE=256\n",
        "img_data=[]\n",
        "\n",
        "img=cv2.imread('/content/drive/MyDrive/monalisa', 1)   #Change 1 to 0 for grey images\n",
        "img = cv2.cvtColor(img, cv2.COLOR_BGR2RGB) #Changing BGR to RGB to show images in true colors\n",
        "img=cv2.resize(img,(SIZE, SIZE))\n",
        "img_data.append(img_to_array(img))\n",
        "\n",
        "img_array = np.reshape(img_data, (len(img_data), SIZE, SIZE, 3))\n",
        "img_array = img_array.astype('float32') / 255.\n"
      ]
    },
    {
      "cell_type": "code",
      "source": [
        "model = Sequential()\n",
        "model.add(Conv2D(32, (3, 3), activation='relu', padding='same', input_shape=(SIZE, SIZE, 3)))\n",
        "model.add(MaxPooling2D((2, 2), padding='same'))\n",
        "model.add(Conv2D(8, (3, 3), activation='relu', padding='same'))\n",
        "model.add(MaxPooling2D((2, 2), padding='same'))\n",
        "model.add(Conv2D(8, (3, 3), activation='relu', padding='same'))\n",
        "\n",
        "\n",
        "model.add(MaxPooling2D((2, 2), padding='same'))\n",
        "\n",
        "model.add(Conv2D(8, (3, 3), activation='relu', padding='same'))\n",
        "model.add(UpSampling2D((2, 2)))\n",
        "model.add(Conv2D(8, (3, 3), activation='relu', padding='same'))\n",
        "model.add(UpSampling2D((2, 2)))\n",
        "model.add(Conv2D(32, (3, 3), activation='relu', padding='same'))\n",
        "model.add(UpSampling2D((2, 2)))\n",
        "model.add(Conv2D(3, (3, 3), activation='relu', padding='same'))\n",
        "\n",
        "model.compile(optimizer='RMSprop', loss='mean_squared_error', metrics=['accuracy'])\n",
        "model.summary()"
      ],
      "metadata": {
        "id": "L7M2EefpURJV"
      },
      "execution_count": null,
      "outputs": []
    },
    {
      "cell_type": "code",
      "source": [
        "model.fit(img_array, img_array,\n",
        "        epochs=200,\n",
        "        shuffle=True)\n",
        "\n",
        "\n",
        "print(\"Neural network output\")\n",
        "pred = model.predict(img_array)\n",
        "\n",
        "\n",
        "\n",
        "imshow(pred[0].reshape(SIZE,SIZE,3), cmap=\"gray\")"
      ],
      "metadata": {
        "id": "UyIZe0RpUarY"
      },
      "execution_count": null,
      "outputs": []
    },
    {
      "cell_type": "code",
      "source": [
        "from tensorflow.keras.datasets import mnist\n",
        "from tensorflow.keras.layers import Conv2D, MaxPooling2D, UpSampling2D\n",
        "from tensorflow.keras.models import Sequential\n",
        "\n",
        "import numpy as np\n",
        "import matplotlib.pyplot as plt\n",
        "\n",
        "(x_train, _), (x_test, _) = mnist.load_data()\n",
        "\n",
        "x_train = x_train.astype('float32') / 255.\n",
        "x_test = x_test.astype('float32') / 255.\n",
        "x_train = np.reshape(x_train, (len(x_train), 28, 28, 1))\n",
        "x_test = np.reshape(x_test, (len(x_test), 28, 28, 1))\n",
        "\n",
        "#adding some noise\n",
        "noise_factor = 0.5\n",
        "x_train_noisy = x_train + noise_factor * np.random.normal(loc=0.0, scale=1.0, size=x_train.shape)\n",
        "x_test_noisy = x_test + noise_factor * np.random.normal(loc=0.0, scale=1.0, size=x_test.shape)\n",
        "\n",
        "x_train_noisy = np.clip(x_train_noisy, 0., 1.)\n",
        "x_test_noisy = np.clip(x_test_noisy, 0., 1.)\n",
        "\n",
        "#Displaying images with noise\n",
        "plt.figure(figsize=(20, 2))\n",
        "for i in range(1,10):\n",
        "    ax = plt.subplot(1, 10, i)\n",
        "    plt.imshow(x_test_noisy[i].reshape(28, 28), cmap=\"binary\")\n",
        "plt.show()\n",
        "\n",
        "\n",
        "model = Sequential()\n",
        "model.add(Conv2D(32, (3, 3), activation='relu', padding='same', input_shape=(28, 28, 1)))\n",
        "model.add(MaxPooling2D((2, 2), padding='same'))\n",
        "model.add(Conv2D(8, (3, 3), activation='relu', padding='same'))\n",
        "model.add(MaxPooling2D((2, 2), padding='same'))\n",
        "model.add(Conv2D(8, (3, 3), activation='relu', padding='same'))\n",
        "\n",
        "\n",
        "model.add(MaxPooling2D((2, 2), padding='same'))\n",
        "\n",
        "model.add(Conv2D(8, (3, 3), activation='relu', padding='same'))\n",
        "model.add(UpSampling2D((2, 2)))\n",
        "model.add(Conv2D(8, (3, 3), activation='relu', padding='same'))\n",
        "model.add(UpSampling2D((2, 2)))\n",
        "model.add(Conv2D(32, (3, 3), activation='relu'))\n",
        "model.add(UpSampling2D((2, 2)))\n",
        "model.add(Conv2D(1, (3, 3), activation='relu', padding='same'))\n",
        "\n",
        "model.compile(optimizer='adam', loss='mean_squared_error')\n",
        "\n",
        "model.summary()\n",
        "\n",
        "model.fit(x_train_noisy, x_train, epochs=10, batch_size=256, shuffle=True,\n",
        "          validation_data=(x_test_noisy, x_test))\n",
        "\n",
        "\n",
        "\n",
        "model.evaluate(x_test_noisy, x_test)\n",
        "\n",
        "model.save('denoising_autoencoder.model')\n",
        "\n",
        "no_noise_img = model.predict(x_test_noisy)\n",
        "\n",
        "plt.figure(figsize=(40, 4))\n",
        "for i in range(10):\n",
        "    # display original\n",
        "    ax = plt.subplot(3, 20, i + 1)\n",
        "    plt.imshow(x_test_noisy[i].reshape(28, 28), cmap=\"binary\")\n",
        "\n",
        "    # display reconstructed (after noise removed) image\n",
        "    ax = plt.subplot(3, 20, 40 +i+ 1)\n",
        "    plt.imshow(no_noise_img[i].reshape(28, 28), cmap=\"binary\")"
      ],
      "metadata": {
        "id": "cVCKcMDyUfN4"
      },
      "execution_count": null,
      "outputs": []
    }
  ]
}