{
  "nbformat": 4,
  "nbformat_minor": 0,
  "metadata": {
    "colab": {
      "provenance": [],
      "authorship_tag": "ABX9TyNCpd33gRiyjU8x2BOtlp8f",
      "include_colab_link": true
    },
    "kernelspec": {
      "name": "python3",
      "display_name": "Python 3"
    },
    "language_info": {
      "name": "python"
    }
  },
  "cells": [
    {
      "cell_type": "markdown",
      "metadata": {
        "id": "view-in-github",
        "colab_type": "text"
      },
      "source": [
        "<a href=\"https://colab.research.google.com/github/SidCan53/Deep-Learning/blob/main/SVM.ipynb\" target=\"_parent\"><img src=\"https://colab.research.google.com/assets/colab-badge.svg\" alt=\"Open In Colab\"/></a>"
      ]
    },
    {
      "cell_type": "code",
      "execution_count": null,
      "metadata": {
        "id": "A_LC5NTjVFZ9"
      },
      "outputs": [],
      "source": [
        "# Load the important packages\n",
        "from sklearn.datasets import load_breast_cancer\n",
        "import matplotlib.pyplot as plt\n",
        "from sklearn.inspection import DecisionBoundaryDisplay\n",
        "from sklearn.svm import SVC\n",
        "\n",
        "# Load the datasets\n",
        "cancer = load_breast_cancer()\n",
        "X = cancer.data[:, :2]\n",
        "y = cancer.target\n",
        "\n",
        "#Build the model\n",
        "svm = SVC(kernel=\"rbf\", gamma=0.5, C=1.0)\n",
        "# Trained the model\n",
        "svm.fit(X, y)\n",
        "\n",
        "# Plot Decision Boundary\n",
        "DecisionBoundaryDisplay.from_estimator(\n",
        "\t\tsvm,\n",
        "\t\tX,\n",
        "\t\tresponse_method=\"predict\",\n",
        "\t\tcmap=plt.cm.Spectral,\n",
        "\t\talpha=0.8,\n",
        "\t\txlabel=cancer.feature_names[0],\n",
        "\t\tylabel=cancer.feature_names[1],\n",
        "\t)\n",
        "\n",
        "# Scatter plot\n",
        "plt.scatter(X[:, 0], X[:, 1],\n",
        "\t\t\tc=y,\n",
        "\t\t\ts=20, edgecolors=\"k\")\n",
        "plt.show()\n"
      ]
    }
  ]
}